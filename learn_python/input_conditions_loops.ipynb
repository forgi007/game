{
 "cells": [
  {
   "cell_type": "code",
   "execution_count": 4,
   "metadata": {},
   "outputs": [
    {
     "name": "stdout",
     "output_type": "stream",
     "text": [
      "Gratulálok, jó válasz :) !\n"
     ]
    }
   ],
   "source": [
    "answer=input(\"Mennyi 2+2?\")\n",
    "\n",
    "if answer == \"4\":\n",
    "  print(\"Gratulálok, jó válasz :) !\")\n",
    "else:\n",
    "  print(\"Rossz válasz!\")\n"
   ]
  },
  {
   "cell_type": "code",
   "execution_count": 5,
   "metadata": {},
   "outputs": [
    {
     "name": "stdout",
     "output_type": "stream",
     "text": [
      "A helyes válasz nagyobb mint 3\n",
      "A helyes válasz kisebb mint 5\n",
      "Gratulálok, jó válasz :) !\n"
     ]
    }
   ],
   "source": [
    "while True: # `while <condition>: block` amíg a <condition> igaz, addig futtatja az alábbi `block`-ot. `True` mindig igaz :) \n",
    "  answer=input(\"Mennyi 2+2?\")\n",
    "  number=int(answer)\n",
    "\n",
    "  if number == 4:\n",
    "    print(\"Gratulálok, jó válasz :) !\")\n",
    "    break # a `break` kilép a `while` loop-ból\n",
    "  elif number<4:\n",
    "    print(f\"A helyes válasz nagyobb mint {number}\")\n",
    "  elif number>4:\n",
    "    print(f\"A helyes válasz kisebb mint {number}\")\n"
   ]
  },
  {
   "cell_type": "code",
   "execution_count": 6,
   "metadata": {},
   "outputs": [
    {
     "name": "stdout",
     "output_type": "stream",
     "text": [
      "3+4 = 7\n"
     ]
    }
   ],
   "source": [
    "# függvény\n",
    "def add(a, b):\n",
    "  sum=a+b\n",
    "  return sum\n",
    "\n",
    "print(\"3+4 =\", add(3,4)) # függvény hívása 2 argumentummal"
   ]
  },
  {
   "cell_type": "code",
   "execution_count": 8,
   "metadata": {},
   "outputs": [],
   "source": [
    "# Írj egy kérdés-válasz játékot. Kis segítség\n",
    "\n",
    "def ask(question):\n",
    "    while True:\n",
    "      answer = input(question+\"\\nválasz:\")\n",
    "\n",
    "      if answer.isnumeric():\n",
    "        answer_number=int(answer)\n",
    "        return answer_number\n",
    "    \n",
    "    \n",
    "a=ask(\"A cicám nyávog, mit tegyek? 1. játssz vele, 2. adj neki enni\")\n",
    "if a==1:\n",
    "  a=ask(\"Labdát vagy műegeret adjak neki? 1. labdát, 2. műegeret\")\n",
    "  #if a==ask(\"következő kérdés\")...\n",
    "else:\n",
    "  a=ask(\"Párizsit vagy tejet adjak? 1. párizsit, 2. tejet\")\n"
   ]
  },
  {
   "cell_type": "code",
   "execution_count": null,
   "metadata": {},
   "outputs": [],
   "source": []
  }
 ],
 "metadata": {
  "kernelspec": {
   "display_name": "Python 3",
   "language": "python",
   "name": "python3"
  },
  "language_info": {
   "codemirror_mode": {
    "name": "ipython",
    "version": 3
   },
   "file_extension": ".py",
   "mimetype": "text/x-python",
   "name": "python",
   "nbconvert_exporter": "python",
   "pygments_lexer": "ipython3",
   "version": "3.10.12"
  }
 },
 "nbformat": 4,
 "nbformat_minor": 2
}
