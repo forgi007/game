{
 "cells": [
  {
   "cell_type": "code",
   "execution_count": 38,
   "metadata": {},
   "outputs": [
    {
     "name": "stdout",
     "output_type": "stream",
     "text": [
      "Lóci ejha! 7.5 [5, 6, 'Miki!', 6.5] {'könyv': 'mese', 'szám': 8.5, 'bármi': [5, 6, 'Miki!', 6.5]}\n"
     ]
    }
   ],
   "source": [
    "# a hashmark (ez a jellel: #) megjegyzést jelent. Ide bármit írhatsz, ez nem program code :)\n",
    "\n",
    "# így hozhatsz létre változókat pythonban\n",
    "\n",
    "# sima szöveg (angolul string)\n",
    "s=\"Lóci\"\n",
    "# a szöveghez is tudsz hozzáadni :)\n",
    "s=s+\" ejha!\"\n",
    "\n",
    "# ez szám\n",
    "i=3 + 4.5\n",
    "im1=i-1 # a váltózó értékadásban használhatsz másik változót (hivatkozhatsz rá)\n",
    "\n",
    "# ez egy lista: szögletes zárójelben felsorolhatsz változókat, számokat, szöveget, vagy bármilyen korábban megadott objektumot (erről majd később)\n",
    "l=[5,6,\"Miki!\", im1]\n",
    "\n",
    "# ez egy dict\n",
    "d={\"könyv\":\"mese\", \"szám\":1+i, \"bármi\":l}\n",
    "\n",
    "# 'print' magyarul 'nyomtat', kiírja amit az argumentumokat (amiket a zárójelek közé írsz). \n",
    "print(s,i,l,d)\n",
    "\n"
   ]
  },
  {
   "cell_type": "code",
   "execution_count": 47,
   "metadata": {},
   "outputs": [
    {
     "name": "stdout",
     "output_type": "stream",
     "text": [
      "\n",
      " a '\\n' kihagy egy sort és nem látszk (new line escape code)!\n",
      "\n",
      "Egyébként ez egy f-string (f\"...\") három idézőjellel (ilyenkor több soros szöveget is beírhatsz). \n",
      "Itt kapcsoszárójlebe megadhatsz változót vagy kifejezést, lássuk:\n",
      "     \n",
      "szöveg váltózó: Lóci ejha!, \n",
      "szám változó: 3.5\n",
      "és egy lista: [5, 6, 'Miki!', 6.5]\n",
      "meg egy dict (könyvtár): ('másik lista', [9, 10, 11])\n"
     ]
    }
   ],
   "source": [
    "print(f\"\"\"\\n a '\\\\n' kihagy egy sort és nem látszk (new line escape code)!\\n\\nEgyébként ez egy f-string (f\"...\") három idézőjellel (ilyenkor több soros szöveget is beírhatsz). \n",
    "Itt kapcsoszárójlebe megadhatsz változót vagy kifejezést, lássuk:\n",
    "     \n",
    "szöveg váltózó: {s}, \n",
    "szám változó: {i}\n",
    "és egy lista: {l}\n",
    "meg egy dict (könyvtár): {d}\"\"\")"
   ]
  },
  {
   "cell_type": "code",
   "execution_count": 40,
   "metadata": {},
   "outputs": [
    {
     "name": "stdout",
     "output_type": "stream",
     "text": [
      "u lista elemei: 0 1 2 négy\n",
      "d dict elemei: 0 1 négy\n"
     ]
    }
   ],
   "source": [
    "# hivatkozzunk a lista elemeire\n",
    "u=[0,1,2,\"négy\"]\n",
    "print(\"u lista elemei:\", u[0], u[1], u[2], u[3])\n",
    "\n",
    "# hivatkozzunk a dict elemeire (itt most felülírjuk (lecseréljük) a korábbi d nevű változónkat!)\n",
    "d={\"szám\":0,\"még egy szám\":1,\"és egy string\":\"négy\"}\n",
    "print(\"d dict elemei:\", d[\"szám\"], d[\"még egy szám\"], d[\"és egy string\"])"
   ]
  },
  {
   "cell_type": "code",
   "execution_count": 41,
   "metadata": {},
   "outputs": [
    {
     "name": "stdout",
     "output_type": "stream",
     "text": [
      "5\n",
      "6\n",
      "100\n",
      "-2\n",
      "3.5\n",
      "\n",
      "most nyomtassunk ki egy dict-et (könyvtár típusú változót)!\n",
      "\n",
      "('lista', [5, 6, 100, -2, 3.5])\n",
      "('másik lista', [9, 10, 11])\n"
     ]
    }
   ],
   "source": [
    "lista1=[5,6,100,-2,3.5]\n",
    "\n",
    "# ez egy for ciklus: végig megy a listán, minden eleme egyenént bekerül a ciklus változóba, aminek most az 'i'. \n",
    "for i in lista1:\n",
    "    print(i)\n",
    "\n",
    "print(\"\\nmost nyomtassunk ki egy dict-et (könyvtár típusú változót)!\\n\")\n",
    "mydict1={\"lista\":lista1, \"másik lista\":[9,10,11]}\n",
    "for d in mydict1.items():\n",
    "    print(d)    "
   ]
  },
  {
   "cell_type": "code",
   "execution_count": 42,
   "metadata": {},
   "outputs": [],
   "source": [
    "# Te jössz :)\n"
   ]
  }
 ],
 "metadata": {
  "kernelspec": {
   "display_name": "Python 3",
   "language": "python",
   "name": "python3"
  },
  "language_info": {
   "codemirror_mode": {
    "name": "ipython",
    "version": 3
   },
   "file_extension": ".py",
   "mimetype": "text/x-python",
   "name": "python",
   "nbconvert_exporter": "python",
   "pygments_lexer": "ipython3",
   "version": "3.11.8"
  }
 },
 "nbformat": 4,
 "nbformat_minor": 2
}
